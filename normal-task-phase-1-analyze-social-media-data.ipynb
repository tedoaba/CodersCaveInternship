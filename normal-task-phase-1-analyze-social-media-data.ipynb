{
 "cells": [
  {
   "cell_type": "markdown",
   "id": "3366abef",
   "metadata": {
    "papermill": {
     "duration": 0.007039,
     "end_time": "2024-05-22T08:46:24.692610",
     "exception": false,
     "start_time": "2024-05-22T08:46:24.685571",
     "status": "completed"
    },
    "tags": []
   },
   "source": [
    "# Normal Task: Analyze customer behavior based on transaction data\n",
    "\n",
    "**Develop a data analysis project that focuses on understanding and analyzing\n",
    "customer behavior based on transactional data. The goal is to perform Exploratory\n",
    "Data Analysis (EDA) to derive valuable insights into customer preferences,\n",
    "purchasing patterns, and overall behavior.**"
   ]
  },
  {
   "cell_type": "markdown",
   "id": "a69f3976",
   "metadata": {
    "papermill": {
     "duration": 0.006647,
     "end_time": "2024-05-22T08:46:24.705853",
     "exception": false,
     "start_time": "2024-05-22T08:46:24.699206",
     "status": "completed"
    },
    "tags": []
   },
   "source": [
    "1. Data Collection and Initial Exploration\n",
    "2. Data Cleaning\n",
    "3. Data Transformation\n",
    "4. Univariate Analysis\n",
    "5. Bivariate Analysis\n",
    "6. Multivariate Analysis\n",
    "7. Customer Segmentation\n",
    "8. Time Series Analysis\n",
    "9. Visualization\n",
    "10. Insight Generation\n",
    "11. Reporting"
   ]
  },
  {
   "cell_type": "markdown",
   "id": "7650d939",
   "metadata": {
    "papermill": {
     "duration": 0.006422,
     "end_time": "2024-05-22T08:46:24.719773",
     "exception": false,
     "start_time": "2024-05-22T08:46:24.713351",
     "status": "completed"
    },
    "tags": []
   },
   "source": [
    "\n",
    "## 1. Data Collection and Initial Exploration\n",
    "\n",
    "**Task Description:**\n",
    "\n",
    "In this step, we will load the transactional dataset into our analysis environment using a data manipulation library like pandas. We'll display the first few rows to get an overview of the dataset and its structure. By summarizing the dataset with basic statistics, we will gain an initial understanding of key metrics such as the number of transactions, sales values, and other relevant features."
   ]
  },
  {
   "cell_type": "code",
   "execution_count": 1,
   "id": "cc3be79f",
   "metadata": {
    "execution": {
     "iopub.execute_input": "2024-05-22T08:46:24.737012Z",
     "iopub.status.busy": "2024-05-22T08:46:24.736511Z",
     "iopub.status.idle": "2024-05-22T08:46:27.197293Z",
     "shell.execute_reply": "2024-05-22T08:46:27.196077Z"
    },
    "papermill": {
     "duration": 2.473135,
     "end_time": "2024-05-22T08:46:27.200625",
     "exception": false,
     "start_time": "2024-05-22T08:46:24.727490",
     "status": "completed"
    },
    "tags": []
   },
   "outputs": [],
   "source": [
    "import numpy as np\n",
    "import pandas as pd\n",
    "import matplotlib.pyplot as plt\n",
    "import seaborn as sns"
   ]
  },
  {
   "cell_type": "code",
   "execution_count": 2,
   "id": "25490d43",
   "metadata": {
    "execution": {
     "iopub.execute_input": "2024-05-22T08:46:27.216201Z",
     "iopub.status.busy": "2024-05-22T08:46:27.215662Z",
     "iopub.status.idle": "2024-05-22T08:46:27.305610Z",
     "shell.execute_reply": "2024-05-22T08:46:27.304322Z"
    },
    "papermill": {
     "duration": 0.100847,
     "end_time": "2024-05-22T08:46:27.308271",
     "exception": false,
     "start_time": "2024-05-22T08:46:27.207424",
     "status": "completed"
    },
    "tags": []
   },
   "outputs": [
    {
     "data": {
      "text/html": [
       "<div>\n",
       "<style scoped>\n",
       "    .dataframe tbody tr th:only-of-type {\n",
       "        vertical-align: middle;\n",
       "    }\n",
       "\n",
       "    .dataframe tbody tr th {\n",
       "        vertical-align: top;\n",
       "    }\n",
       "\n",
       "    .dataframe thead th {\n",
       "        text-align: right;\n",
       "    }\n",
       "</style>\n",
       "<table border=\"1\" class=\"dataframe\">\n",
       "  <thead>\n",
       "    <tr style=\"text-align: right;\">\n",
       "      <th></th>\n",
       "      <th>MONTH</th>\n",
       "      <th>STORECODE</th>\n",
       "      <th>QTY</th>\n",
       "      <th>VALUE</th>\n",
       "      <th>GRP</th>\n",
       "      <th>SGRP</th>\n",
       "      <th>SSGRP</th>\n",
       "      <th>CMP</th>\n",
       "      <th>MBRD</th>\n",
       "      <th>BRD</th>\n",
       "    </tr>\n",
       "  </thead>\n",
       "  <tbody>\n",
       "    <tr>\n",
       "      <th>0</th>\n",
       "      <td>M1</td>\n",
       "      <td>P1</td>\n",
       "      <td>25</td>\n",
       "      <td>83</td>\n",
       "      <td>HAIR CONDITIONERS</td>\n",
       "      <td>HAIR CONDITIONERS</td>\n",
       "      <td>HAIR CONDITIONERS</td>\n",
       "      <td>HINDUSTAN UNILEVER LIMITED</td>\n",
       "      <td>DOVE</td>\n",
       "      <td>DOVE HAIR FALL RESCUE</td>\n",
       "    </tr>\n",
       "    <tr>\n",
       "      <th>1</th>\n",
       "      <td>M1</td>\n",
       "      <td>P1</td>\n",
       "      <td>6</td>\n",
       "      <td>22</td>\n",
       "      <td>HAIR CONDITIONERS</td>\n",
       "      <td>HAIR CONDITIONERS</td>\n",
       "      <td>HAIR CONDITIONERS</td>\n",
       "      <td>HINDUSTAN UNILEVER LIMITED</td>\n",
       "      <td>DOVE</td>\n",
       "      <td>DOVE INTENSE REPAIR</td>\n",
       "    </tr>\n",
       "    <tr>\n",
       "      <th>2</th>\n",
       "      <td>M1</td>\n",
       "      <td>P1</td>\n",
       "      <td>4</td>\n",
       "      <td>15</td>\n",
       "      <td>HAIR CONDITIONERS</td>\n",
       "      <td>HAIR CONDITIONERS</td>\n",
       "      <td>HAIR CONDITIONERS</td>\n",
       "      <td>HINDUSTAN UNILEVER LIMITED</td>\n",
       "      <td>DOVE</td>\n",
       "      <td>DOVE OXYGEN MOISTURE</td>\n",
       "    </tr>\n",
       "    <tr>\n",
       "      <th>3</th>\n",
       "      <td>M1</td>\n",
       "      <td>P1</td>\n",
       "      <td>15</td>\n",
       "      <td>60</td>\n",
       "      <td>HAIR CONDITIONERS</td>\n",
       "      <td>HAIR CONDITIONERS</td>\n",
       "      <td>HAIR CONDITIONERS</td>\n",
       "      <td>L'OREAL INDIA</td>\n",
       "      <td>GARNIER</td>\n",
       "      <td>FRUCTIS</td>\n",
       "    </tr>\n",
       "    <tr>\n",
       "      <th>4</th>\n",
       "      <td>M1</td>\n",
       "      <td>P2</td>\n",
       "      <td>0</td>\n",
       "      <td>0</td>\n",
       "      <td>HAIR CONDITIONERS</td>\n",
       "      <td>HAIR CONDITIONERS</td>\n",
       "      <td>HAIR CONDITIONERS</td>\n",
       "      <td>HINDUSTAN UNILEVER LIMITED</td>\n",
       "      <td>CLINIC PLUS</td>\n",
       "      <td>CLINIC PLUS</td>\n",
       "    </tr>\n",
       "  </tbody>\n",
       "</table>\n",
       "</div>"
      ],
      "text/plain": [
       "  MONTH STORECODE  QTY  VALUE                GRP               SGRP  \\\n",
       "0    M1        P1   25     83  HAIR CONDITIONERS  HAIR CONDITIONERS   \n",
       "1    M1        P1    6     22  HAIR CONDITIONERS  HAIR CONDITIONERS   \n",
       "2    M1        P1    4     15  HAIR CONDITIONERS  HAIR CONDITIONERS   \n",
       "3    M1        P1   15     60  HAIR CONDITIONERS  HAIR CONDITIONERS   \n",
       "4    M1        P2    0      0  HAIR CONDITIONERS  HAIR CONDITIONERS   \n",
       "\n",
       "               SSGRP                         CMP         MBRD  \\\n",
       "0  HAIR CONDITIONERS  HINDUSTAN UNILEVER LIMITED         DOVE   \n",
       "1  HAIR CONDITIONERS  HINDUSTAN UNILEVER LIMITED         DOVE   \n",
       "2  HAIR CONDITIONERS  HINDUSTAN UNILEVER LIMITED         DOVE   \n",
       "3  HAIR CONDITIONERS               L'OREAL INDIA      GARNIER   \n",
       "4  HAIR CONDITIONERS  HINDUSTAN UNILEVER LIMITED  CLINIC PLUS   \n",
       "\n",
       "                     BRD  \n",
       "0  DOVE HAIR FALL RESCUE  \n",
       "1    DOVE INTENSE REPAIR  \n",
       "2   DOVE OXYGEN MOISTURE  \n",
       "3                FRUCTIS  \n",
       "4            CLINIC PLUS  "
      ]
     },
     "execution_count": 2,
     "metadata": {},
     "output_type": "execute_result"
    }
   ],
   "source": [
    "data = pd.read_csv('/kaggle/input/store-transaction-data/Hackathon_Ideal_Data.csv')\n",
    "data.head()"
   ]
  },
  {
   "cell_type": "code",
   "execution_count": 3,
   "id": "6b2827bd",
   "metadata": {
    "execution": {
     "iopub.execute_input": "2024-05-22T08:46:27.324515Z",
     "iopub.status.busy": "2024-05-22T08:46:27.323909Z",
     "iopub.status.idle": "2024-05-22T08:46:27.340980Z",
     "shell.execute_reply": "2024-05-22T08:46:27.340125Z"
    },
    "papermill": {
     "duration": 0.027704,
     "end_time": "2024-05-22T08:46:27.343255",
     "exception": false,
     "start_time": "2024-05-22T08:46:27.315551",
     "status": "completed"
    },
    "tags": []
   },
   "outputs": [
    {
     "data": {
      "text/html": [
       "<div>\n",
       "<style scoped>\n",
       "    .dataframe tbody tr th:only-of-type {\n",
       "        vertical-align: middle;\n",
       "    }\n",
       "\n",
       "    .dataframe tbody tr th {\n",
       "        vertical-align: top;\n",
       "    }\n",
       "\n",
       "    .dataframe thead th {\n",
       "        text-align: right;\n",
       "    }\n",
       "</style>\n",
       "<table border=\"1\" class=\"dataframe\">\n",
       "  <thead>\n",
       "    <tr style=\"text-align: right;\">\n",
       "      <th></th>\n",
       "      <th>File Name</th>\n",
       "      <th>Column Name</th>\n",
       "      <th>Column Description</th>\n",
       "    </tr>\n",
       "  </thead>\n",
       "  <tbody>\n",
       "    <tr>\n",
       "      <th>0</th>\n",
       "      <td>Hackathon_Ideal_Data</td>\n",
       "      <td>MONTH</td>\n",
       "      <td>Month ID (M1, M2, M3)</td>\n",
       "    </tr>\n",
       "    <tr>\n",
       "      <th>1</th>\n",
       "      <td>NaN</td>\n",
       "      <td>STORECODE</td>\n",
       "      <td>STORE CODE (P1, P2, …, P10)</td>\n",
       "    </tr>\n",
       "    <tr>\n",
       "      <th>2</th>\n",
       "      <td>NaN</td>\n",
       "      <td>QTY</td>\n",
       "      <td>Sales Unit</td>\n",
       "    </tr>\n",
       "    <tr>\n",
       "      <th>3</th>\n",
       "      <td>NaN</td>\n",
       "      <td>VALUE</td>\n",
       "      <td>Sales Value</td>\n",
       "    </tr>\n",
       "    <tr>\n",
       "      <th>4</th>\n",
       "      <td>NaN</td>\n",
       "      <td>GRP</td>\n",
       "      <td>Category</td>\n",
       "    </tr>\n",
       "    <tr>\n",
       "      <th>5</th>\n",
       "      <td>NaN</td>\n",
       "      <td>SGRP</td>\n",
       "      <td>Subcategory</td>\n",
       "    </tr>\n",
       "    <tr>\n",
       "      <th>6</th>\n",
       "      <td>NaN</td>\n",
       "      <td>SSGRP</td>\n",
       "      <td>Sub Sub Category</td>\n",
       "    </tr>\n",
       "    <tr>\n",
       "      <th>7</th>\n",
       "      <td>NaN</td>\n",
       "      <td>CMP</td>\n",
       "      <td>Company/Manufacturer</td>\n",
       "    </tr>\n",
       "    <tr>\n",
       "      <th>8</th>\n",
       "      <td>NaN</td>\n",
       "      <td>MBRD</td>\n",
       "      <td>Mother Brand</td>\n",
       "    </tr>\n",
       "    <tr>\n",
       "      <th>9</th>\n",
       "      <td>NaN</td>\n",
       "      <td>BRD</td>\n",
       "      <td>Brand</td>\n",
       "    </tr>\n",
       "    <tr>\n",
       "      <th>10</th>\n",
       "      <td>Hackathon_Working_Data</td>\n",
       "      <td>MONTH</td>\n",
       "      <td>Month ID (M1, M2, M3)</td>\n",
       "    </tr>\n",
       "    <tr>\n",
       "      <th>11</th>\n",
       "      <td>NaN</td>\n",
       "      <td>STORECODE</td>\n",
       "      <td>STORE CODE (N1, N2, …, N10)</td>\n",
       "    </tr>\n",
       "    <tr>\n",
       "      <th>12</th>\n",
       "      <td>NaN</td>\n",
       "      <td>DAY</td>\n",
       "      <td>Day of the month</td>\n",
       "    </tr>\n",
       "    <tr>\n",
       "      <th>13</th>\n",
       "      <td>NaN</td>\n",
       "      <td>BILL_ID</td>\n",
       "      <td>Bill ID (T1,T2,…)</td>\n",
       "    </tr>\n",
       "    <tr>\n",
       "      <th>14</th>\n",
       "      <td>NaN</td>\n",
       "      <td>BILL_AMT</td>\n",
       "      <td>Bill Amount</td>\n",
       "    </tr>\n",
       "    <tr>\n",
       "      <th>15</th>\n",
       "      <td>NaN</td>\n",
       "      <td>QTY</td>\n",
       "      <td>Sales Unit</td>\n",
       "    </tr>\n",
       "    <tr>\n",
       "      <th>16</th>\n",
       "      <td>NaN</td>\n",
       "      <td>VALUE</td>\n",
       "      <td>Sales Value</td>\n",
       "    </tr>\n",
       "    <tr>\n",
       "      <th>17</th>\n",
       "      <td>NaN</td>\n",
       "      <td>PRICE</td>\n",
       "      <td>Selling Price Per Unit</td>\n",
       "    </tr>\n",
       "    <tr>\n",
       "      <th>18</th>\n",
       "      <td>NaN</td>\n",
       "      <td>GRP</td>\n",
       "      <td>Category</td>\n",
       "    </tr>\n",
       "    <tr>\n",
       "      <th>19</th>\n",
       "      <td>NaN</td>\n",
       "      <td>SGRP</td>\n",
       "      <td>Subcategory</td>\n",
       "    </tr>\n",
       "    <tr>\n",
       "      <th>20</th>\n",
       "      <td>NaN</td>\n",
       "      <td>SSGRP</td>\n",
       "      <td>Sub Sub Category</td>\n",
       "    </tr>\n",
       "    <tr>\n",
       "      <th>21</th>\n",
       "      <td>NaN</td>\n",
       "      <td>CMP</td>\n",
       "      <td>Company/Manufacturer</td>\n",
       "    </tr>\n",
       "    <tr>\n",
       "      <th>22</th>\n",
       "      <td>NaN</td>\n",
       "      <td>MBRD</td>\n",
       "      <td>Mother Brand</td>\n",
       "    </tr>\n",
       "    <tr>\n",
       "      <th>23</th>\n",
       "      <td>NaN</td>\n",
       "      <td>BRD</td>\n",
       "      <td>Brand</td>\n",
       "    </tr>\n",
       "  </tbody>\n",
       "</table>\n",
       "</div>"
      ],
      "text/plain": [
       "                 File Name Column Name           Column Description\n",
       "0     Hackathon_Ideal_Data       MONTH        Month ID (M1, M2, M3)\n",
       "1                      NaN   STORECODE  STORE CODE (P1, P2, …, P10)\n",
       "2                      NaN         QTY                   Sales Unit\n",
       "3                      NaN       VALUE                  Sales Value\n",
       "4                      NaN         GRP                     Category\n",
       "5                      NaN        SGRP                  Subcategory\n",
       "6                      NaN       SSGRP             Sub Sub Category\n",
       "7                      NaN         CMP         Company/Manufacturer\n",
       "8                      NaN        MBRD                 Mother Brand\n",
       "9                      NaN         BRD                        Brand\n",
       "10  Hackathon_Working_Data       MONTH        Month ID (M1, M2, M3)\n",
       "11                     NaN   STORECODE  STORE CODE (N1, N2, …, N10)\n",
       "12                     NaN         DAY             Day of the month\n",
       "13                     NaN     BILL_ID            Bill ID (T1,T2,…)\n",
       "14                     NaN    BILL_AMT                 Bill Amount \n",
       "15                     NaN         QTY                   Sales Unit\n",
       "16                     NaN       VALUE                  Sales Value\n",
       "17                     NaN       PRICE       Selling Price Per Unit\n",
       "18                     NaN         GRP                     Category\n",
       "19                     NaN        SGRP                  Subcategory\n",
       "20                     NaN       SSGRP             Sub Sub Category\n",
       "21                     NaN         CMP         Company/Manufacturer\n",
       "22                     NaN        MBRD                 Mother Brand\n",
       "23                     NaN         BRD                        Brand"
      ]
     },
     "execution_count": 3,
     "metadata": {},
     "output_type": "execute_result"
    }
   ],
   "source": [
    "data1 = pd.read_csv('/kaggle/input/store-transaction-data/Hackathon_Mapping_File.csv')\n",
    "data1"
   ]
  },
  {
   "cell_type": "code",
   "execution_count": 4,
   "id": "1e1124d4",
   "metadata": {
    "execution": {
     "iopub.execute_input": "2024-05-22T08:46:27.360869Z",
     "iopub.status.busy": "2024-05-22T08:46:27.360274Z",
     "iopub.status.idle": "2024-05-22T08:46:27.378778Z",
     "shell.execute_reply": "2024-05-22T08:46:27.377518Z"
    },
    "papermill": {
     "duration": 0.03095,
     "end_time": "2024-05-22T08:46:27.381426",
     "exception": false,
     "start_time": "2024-05-22T08:46:27.350476",
     "status": "completed"
    },
    "tags": []
   },
   "outputs": [
    {
     "data": {
      "text/html": [
       "<div>\n",
       "<style scoped>\n",
       "    .dataframe tbody tr th:only-of-type {\n",
       "        vertical-align: middle;\n",
       "    }\n",
       "\n",
       "    .dataframe tbody tr th {\n",
       "        vertical-align: top;\n",
       "    }\n",
       "\n",
       "    .dataframe thead th {\n",
       "        text-align: right;\n",
       "    }\n",
       "</style>\n",
       "<table border=\"1\" class=\"dataframe\">\n",
       "  <thead>\n",
       "    <tr style=\"text-align: right;\">\n",
       "      <th></th>\n",
       "      <th>ID</th>\n",
       "      <th>STORECODE</th>\n",
       "      <th>MONTH</th>\n",
       "      <th>GRP</th>\n",
       "    </tr>\n",
       "  </thead>\n",
       "  <tbody>\n",
       "    <tr>\n",
       "      <th>0</th>\n",
       "      <td>1112535</td>\n",
       "      <td>N1</td>\n",
       "      <td>M1</td>\n",
       "      <td>AFTER SHAVE LOTIONS</td>\n",
       "    </tr>\n",
       "    <tr>\n",
       "      <th>1</th>\n",
       "      <td>1112539</td>\n",
       "      <td>N1</td>\n",
       "      <td>M1</td>\n",
       "      <td>AGARBATTI &amp; DHOOPBATTI</td>\n",
       "    </tr>\n",
       "    <tr>\n",
       "      <th>2</th>\n",
       "      <td>1112543</td>\n",
       "      <td>N1</td>\n",
       "      <td>M1</td>\n",
       "      <td>ALL AIR FRESHNERS(01/03)</td>\n",
       "    </tr>\n",
       "    <tr>\n",
       "      <th>3</th>\n",
       "      <td>1112547</td>\n",
       "      <td>N1</td>\n",
       "      <td>M1</td>\n",
       "      <td>ALL IODISED SALT</td>\n",
       "    </tr>\n",
       "    <tr>\n",
       "      <th>4</th>\n",
       "      <td>1112551</td>\n",
       "      <td>N1</td>\n",
       "      <td>M1</td>\n",
       "      <td>ANTACIDS</td>\n",
       "    </tr>\n",
       "  </tbody>\n",
       "</table>\n",
       "</div>"
      ],
      "text/plain": [
       "        ID STORECODE MONTH                       GRP\n",
       "0  1112535        N1    M1       AFTER SHAVE LOTIONS\n",
       "1  1112539        N1    M1    AGARBATTI & DHOOPBATTI\n",
       "2  1112543        N1    M1  ALL AIR FRESHNERS(01/03)\n",
       "3  1112547        N1    M1          ALL IODISED SALT\n",
       "4  1112551        N1    M1                  ANTACIDS"
      ]
     },
     "execution_count": 4,
     "metadata": {},
     "output_type": "execute_result"
    }
   ],
   "source": [
    "data2 = pd.read_csv('/kaggle/input/store-transaction-data/Hackathon_Validation_Data.csv')\n",
    "data2.head()"
   ]
  },
  {
   "cell_type": "code",
   "execution_count": 5,
   "id": "4a0847f2",
   "metadata": {
    "execution": {
     "iopub.execute_input": "2024-05-22T08:46:27.398642Z",
     "iopub.status.busy": "2024-05-22T08:46:27.397904Z",
     "iopub.status.idle": "2024-05-22T08:46:27.529178Z",
     "shell.execute_reply": "2024-05-22T08:46:27.528046Z"
    },
    "papermill": {
     "duration": 0.142445,
     "end_time": "2024-05-22T08:46:27.531609",
     "exception": false,
     "start_time": "2024-05-22T08:46:27.389164",
     "status": "completed"
    },
    "tags": []
   },
   "outputs": [
    {
     "data": {
      "text/html": [
       "<div>\n",
       "<style scoped>\n",
       "    .dataframe tbody tr th:only-of-type {\n",
       "        vertical-align: middle;\n",
       "    }\n",
       "\n",
       "    .dataframe tbody tr th {\n",
       "        vertical-align: top;\n",
       "    }\n",
       "\n",
       "    .dataframe thead th {\n",
       "        text-align: right;\n",
       "    }\n",
       "</style>\n",
       "<table border=\"1\" class=\"dataframe\">\n",
       "  <thead>\n",
       "    <tr style=\"text-align: right;\">\n",
       "      <th></th>\n",
       "      <th>MONTH</th>\n",
       "      <th>STORECODE</th>\n",
       "      <th>DAY</th>\n",
       "      <th>BILL_ID</th>\n",
       "      <th>BILL_AMT</th>\n",
       "      <th>QTY</th>\n",
       "      <th>VALUE</th>\n",
       "      <th>PRICE</th>\n",
       "      <th>GRP</th>\n",
       "      <th>SGRP</th>\n",
       "      <th>SSGRP</th>\n",
       "      <th>CMP</th>\n",
       "      <th>MBRD</th>\n",
       "      <th>BRD</th>\n",
       "    </tr>\n",
       "  </thead>\n",
       "  <tbody>\n",
       "    <tr>\n",
       "      <th>0</th>\n",
       "      <td>M1</td>\n",
       "      <td>N1</td>\n",
       "      <td>4</td>\n",
       "      <td>T375</td>\n",
       "      <td>225.0</td>\n",
       "      <td>1.0</td>\n",
       "      <td>225.0</td>\n",
       "      <td>225.0</td>\n",
       "      <td>BUTTER MARGR  (4/94)</td>\n",
       "      <td>BUTTER</td>\n",
       "      <td>SALTED</td>\n",
       "      <td>G C M M F</td>\n",
       "      <td>AMUL</td>\n",
       "      <td>AMUL</td>\n",
       "    </tr>\n",
       "    <tr>\n",
       "      <th>1</th>\n",
       "      <td>M1</td>\n",
       "      <td>N1</td>\n",
       "      <td>4</td>\n",
       "      <td>T379</td>\n",
       "      <td>95.0</td>\n",
       "      <td>1.0</td>\n",
       "      <td>95.0</td>\n",
       "      <td>95.0</td>\n",
       "      <td>CONFECTIONERY - ECLAIRS</td>\n",
       "      <td>CONFECTIONERY - ECLAIRS</td>\n",
       "      <td>CONFECTIONERY - ECLAIRS</td>\n",
       "      <td>PARLE PRODS</td>\n",
       "      <td>MELODY</td>\n",
       "      <td>MELODY CHOCOLATY</td>\n",
       "    </tr>\n",
       "    <tr>\n",
       "      <th>2</th>\n",
       "      <td>M1</td>\n",
       "      <td>N1</td>\n",
       "      <td>4</td>\n",
       "      <td>T381</td>\n",
       "      <td>10.0</td>\n",
       "      <td>1.0</td>\n",
       "      <td>10.0</td>\n",
       "      <td>10.0</td>\n",
       "      <td>CHOCOLATE</td>\n",
       "      <td>CHOCOLATE PANNED</td>\n",
       "      <td>CHOCOLATE PANNED</td>\n",
       "      <td>MONDELEZ INTERNATIONAL</td>\n",
       "      <td>CADBURY SHOTS</td>\n",
       "      <td>CADBURY SHOTS</td>\n",
       "    </tr>\n",
       "    <tr>\n",
       "      <th>3</th>\n",
       "      <td>M1</td>\n",
       "      <td>N1</td>\n",
       "      <td>4</td>\n",
       "      <td>T382</td>\n",
       "      <td>108.0</td>\n",
       "      <td>1.0</td>\n",
       "      <td>108.0</td>\n",
       "      <td>108.0</td>\n",
       "      <td>PACKAGED TEA</td>\n",
       "      <td>MAIN PACKS</td>\n",
       "      <td>MAIN PACKS</td>\n",
       "      <td>GUJ TEA PROCESSORS</td>\n",
       "      <td>WAGH BAKRI</td>\n",
       "      <td>WAGH BAKRI INSTANT</td>\n",
       "    </tr>\n",
       "    <tr>\n",
       "      <th>4</th>\n",
       "      <td>M1</td>\n",
       "      <td>N1</td>\n",
       "      <td>4</td>\n",
       "      <td>T384</td>\n",
       "      <td>19.0</td>\n",
       "      <td>1.0</td>\n",
       "      <td>19.0</td>\n",
       "      <td>19.0</td>\n",
       "      <td>ALL IODISED SALT</td>\n",
       "      <td>POWDERED SALT</td>\n",
       "      <td>POWDERED SALT</td>\n",
       "      <td>TATA CHEM</td>\n",
       "      <td>TATA</td>\n",
       "      <td>TATA SALT</td>\n",
       "    </tr>\n",
       "  </tbody>\n",
       "</table>\n",
       "</div>"
      ],
      "text/plain": [
       "  MONTH STORECODE  DAY BILL_ID  BILL_AMT  QTY  VALUE  PRICE  \\\n",
       "0    M1        N1    4    T375     225.0  1.0  225.0  225.0   \n",
       "1    M1        N1    4    T379      95.0  1.0   95.0   95.0   \n",
       "2    M1        N1    4    T381      10.0  1.0   10.0   10.0   \n",
       "3    M1        N1    4    T382     108.0  1.0  108.0  108.0   \n",
       "4    M1        N1    4    T384      19.0  1.0   19.0   19.0   \n",
       "\n",
       "                       GRP                     SGRP                    SSGRP  \\\n",
       "0     BUTTER MARGR  (4/94)                   BUTTER                   SALTED   \n",
       "1  CONFECTIONERY - ECLAIRS  CONFECTIONERY - ECLAIRS  CONFECTIONERY - ECLAIRS   \n",
       "2                CHOCOLATE         CHOCOLATE PANNED         CHOCOLATE PANNED   \n",
       "3             PACKAGED TEA               MAIN PACKS               MAIN PACKS   \n",
       "4         ALL IODISED SALT            POWDERED SALT            POWDERED SALT   \n",
       "\n",
       "                      CMP           MBRD                 BRD  \n",
       "0               G C M M F           AMUL                AMUL  \n",
       "1             PARLE PRODS         MELODY    MELODY CHOCOLATY  \n",
       "2  MONDELEZ INTERNATIONAL  CADBURY SHOTS       CADBURY SHOTS  \n",
       "3      GUJ TEA PROCESSORS     WAGH BAKRI  WAGH BAKRI INSTANT  \n",
       "4               TATA CHEM           TATA           TATA SALT  "
      ]
     },
     "execution_count": 5,
     "metadata": {},
     "output_type": "execute_result"
    }
   ],
   "source": [
    "data3 = pd.read_csv('/kaggle/input/store-transaction-data/Hackathon_Working_Data.csv')\n",
    "data3.head()"
   ]
  },
  {
   "cell_type": "code",
   "execution_count": 6,
   "id": "2b6c3846",
   "metadata": {
    "execution": {
     "iopub.execute_input": "2024-05-22T08:46:27.549455Z",
     "iopub.status.busy": "2024-05-22T08:46:27.548846Z",
     "iopub.status.idle": "2024-05-22T08:46:27.556977Z",
     "shell.execute_reply": "2024-05-22T08:46:27.555515Z"
    },
    "papermill": {
     "duration": 0.020818,
     "end_time": "2024-05-22T08:46:27.559923",
     "exception": false,
     "start_time": "2024-05-22T08:46:27.539105",
     "status": "completed"
    },
    "tags": []
   },
   "outputs": [
    {
     "data": {
      "text/plain": [
       "((14260, 10), (24, 3), (2430, 4), (26985, 14))"
      ]
     },
     "execution_count": 6,
     "metadata": {},
     "output_type": "execute_result"
    }
   ],
   "source": [
    "data.shape, data1.shape, data2.shape, data3.shape"
   ]
  },
  {
   "cell_type": "code",
   "execution_count": 7,
   "id": "e527db60",
   "metadata": {
    "execution": {
     "iopub.execute_input": "2024-05-22T08:46:27.578437Z",
     "iopub.status.busy": "2024-05-22T08:46:27.577833Z",
     "iopub.status.idle": "2024-05-22T08:46:27.584455Z",
     "shell.execute_reply": "2024-05-22T08:46:27.583428Z"
    },
    "papermill": {
     "duration": 0.018188,
     "end_time": "2024-05-22T08:46:27.586844",
     "exception": false,
     "start_time": "2024-05-22T08:46:27.568656",
     "status": "completed"
    },
    "tags": []
   },
   "outputs": [
    {
     "data": {
      "text/plain": [
       "(Index(['MONTH', 'STORECODE', 'QTY', 'VALUE', 'GRP', 'SGRP', 'SSGRP', 'CMP',\n",
       "        'MBRD', 'BRD'],\n",
       "       dtype='object'),\n",
       " Index(['File Name', 'Column Name', 'Column Description'], dtype='object'),\n",
       " Index(['ID', 'STORECODE', 'MONTH', 'GRP'], dtype='object'),\n",
       " Index(['MONTH', 'STORECODE', 'DAY', 'BILL_ID', 'BILL_AMT', 'QTY', 'VALUE',\n",
       "        'PRICE', 'GRP', 'SGRP', 'SSGRP', 'CMP', 'MBRD', 'BRD'],\n",
       "       dtype='object'))"
      ]
     },
     "execution_count": 7,
     "metadata": {},
     "output_type": "execute_result"
    }
   ],
   "source": [
    "data.columns, data1.columns, data2.columns, data3.columns"
   ]
  },
  {
   "cell_type": "markdown",
   "id": "84a0ed87",
   "metadata": {
    "papermill": {
     "duration": 0.007567,
     "end_time": "2024-05-22T08:46:27.602419",
     "exception": false,
     "start_time": "2024-05-22T08:46:27.594852",
     "status": "completed"
    },
    "tags": []
   },
   "source": [
    "## 2. Data Cleaning\n",
    "\n",
    "**Task Description:**\n",
    "\n",
    "Data cleaning involves identifying and handling missing values and duplicate records in the dataset. We will ensure that each column has the correct data type, such as converting MONTH and DAY to datetime objects and QTY and VALUE to numeric types. Additionally, we'll address any inconsistencies in column names and formats to maintain data integrity and prepare the dataset for analysis.\n"
   ]
  },
  {
   "cell_type": "code",
   "execution_count": 8,
   "id": "ff4e850b",
   "metadata": {
    "execution": {
     "iopub.execute_input": "2024-05-22T08:46:27.620773Z",
     "iopub.status.busy": "2024-05-22T08:46:27.619704Z",
     "iopub.status.idle": "2024-05-22T08:46:27.715602Z",
     "shell.execute_reply": "2024-05-22T08:46:27.714632Z"
    },
    "papermill": {
     "duration": 0.108492,
     "end_time": "2024-05-22T08:46:27.718901",
     "exception": false,
     "start_time": "2024-05-22T08:46:27.610409",
     "status": "completed"
    },
    "tags": []
   },
   "outputs": [
    {
     "data": {
      "text/html": [
       "<div>\n",
       "<style scoped>\n",
       "    .dataframe tbody tr th:only-of-type {\n",
       "        vertical-align: middle;\n",
       "    }\n",
       "\n",
       "    .dataframe tbody tr th {\n",
       "        vertical-align: top;\n",
       "    }\n",
       "\n",
       "    .dataframe thead th {\n",
       "        text-align: right;\n",
       "    }\n",
       "</style>\n",
       "<table border=\"1\" class=\"dataframe\">\n",
       "  <thead>\n",
       "    <tr style=\"text-align: right;\">\n",
       "      <th></th>\n",
       "      <th>MONTH</th>\n",
       "      <th>STORECODE</th>\n",
       "      <th>DAY</th>\n",
       "      <th>BILL_ID</th>\n",
       "      <th>BILL_AMT</th>\n",
       "      <th>QTY</th>\n",
       "      <th>VALUE</th>\n",
       "      <th>PRICE</th>\n",
       "      <th>GRP</th>\n",
       "      <th>SGRP</th>\n",
       "      <th>SSGRP</th>\n",
       "      <th>CMP</th>\n",
       "      <th>MBRD</th>\n",
       "      <th>BRD</th>\n",
       "    </tr>\n",
       "  </thead>\n",
       "  <tbody>\n",
       "    <tr>\n",
       "      <th>0</th>\n",
       "      <td>M1</td>\n",
       "      <td>N1</td>\n",
       "      <td>4</td>\n",
       "      <td>T375</td>\n",
       "      <td>225.0</td>\n",
       "      <td>1.0</td>\n",
       "      <td>225.0</td>\n",
       "      <td>225.0</td>\n",
       "      <td>BUTTER MARGR  (4/94)</td>\n",
       "      <td>BUTTER</td>\n",
       "      <td>SALTED</td>\n",
       "      <td>G C M M F</td>\n",
       "      <td>AMUL</td>\n",
       "      <td>AMUL</td>\n",
       "    </tr>\n",
       "    <tr>\n",
       "      <th>1</th>\n",
       "      <td>M1</td>\n",
       "      <td>N1</td>\n",
       "      <td>4</td>\n",
       "      <td>T379</td>\n",
       "      <td>95.0</td>\n",
       "      <td>1.0</td>\n",
       "      <td>95.0</td>\n",
       "      <td>95.0</td>\n",
       "      <td>CONFECTIONERY - ECLAIRS</td>\n",
       "      <td>CONFECTIONERY - ECLAIRS</td>\n",
       "      <td>CONFECTIONERY - ECLAIRS</td>\n",
       "      <td>PARLE PRODS</td>\n",
       "      <td>MELODY</td>\n",
       "      <td>MELODY CHOCOLATY</td>\n",
       "    </tr>\n",
       "    <tr>\n",
       "      <th>2</th>\n",
       "      <td>M1</td>\n",
       "      <td>N1</td>\n",
       "      <td>4</td>\n",
       "      <td>T381</td>\n",
       "      <td>10.0</td>\n",
       "      <td>1.0</td>\n",
       "      <td>10.0</td>\n",
       "      <td>10.0</td>\n",
       "      <td>CHOCOLATE</td>\n",
       "      <td>CHOCOLATE PANNED</td>\n",
       "      <td>CHOCOLATE PANNED</td>\n",
       "      <td>MONDELEZ INTERNATIONAL</td>\n",
       "      <td>CADBURY SHOTS</td>\n",
       "      <td>CADBURY SHOTS</td>\n",
       "    </tr>\n",
       "    <tr>\n",
       "      <th>3</th>\n",
       "      <td>M1</td>\n",
       "      <td>N1</td>\n",
       "      <td>4</td>\n",
       "      <td>T382</td>\n",
       "      <td>108.0</td>\n",
       "      <td>1.0</td>\n",
       "      <td>108.0</td>\n",
       "      <td>108.0</td>\n",
       "      <td>PACKAGED TEA</td>\n",
       "      <td>MAIN PACKS</td>\n",
       "      <td>MAIN PACKS</td>\n",
       "      <td>GUJ TEA PROCESSORS</td>\n",
       "      <td>WAGH BAKRI</td>\n",
       "      <td>WAGH BAKRI INSTANT</td>\n",
       "    </tr>\n",
       "    <tr>\n",
       "      <th>4</th>\n",
       "      <td>M1</td>\n",
       "      <td>N1</td>\n",
       "      <td>4</td>\n",
       "      <td>T384</td>\n",
       "      <td>19.0</td>\n",
       "      <td>1.0</td>\n",
       "      <td>19.0</td>\n",
       "      <td>19.0</td>\n",
       "      <td>ALL IODISED SALT</td>\n",
       "      <td>POWDERED SALT</td>\n",
       "      <td>POWDERED SALT</td>\n",
       "      <td>TATA CHEM</td>\n",
       "      <td>TATA</td>\n",
       "      <td>TATA SALT</td>\n",
       "    </tr>\n",
       "  </tbody>\n",
       "</table>\n",
       "</div>"
      ],
      "text/plain": [
       "  MONTH STORECODE  DAY BILL_ID  BILL_AMT  QTY  VALUE  PRICE  \\\n",
       "0    M1        N1    4    T375     225.0  1.0  225.0  225.0   \n",
       "1    M1        N1    4    T379      95.0  1.0   95.0   95.0   \n",
       "2    M1        N1    4    T381      10.0  1.0   10.0   10.0   \n",
       "3    M1        N1    4    T382     108.0  1.0  108.0  108.0   \n",
       "4    M1        N1    4    T384      19.0  1.0   19.0   19.0   \n",
       "\n",
       "                       GRP                     SGRP                    SSGRP  \\\n",
       "0     BUTTER MARGR  (4/94)                   BUTTER                   SALTED   \n",
       "1  CONFECTIONERY - ECLAIRS  CONFECTIONERY - ECLAIRS  CONFECTIONERY - ECLAIRS   \n",
       "2                CHOCOLATE         CHOCOLATE PANNED         CHOCOLATE PANNED   \n",
       "3             PACKAGED TEA               MAIN PACKS               MAIN PACKS   \n",
       "4         ALL IODISED SALT            POWDERED SALT            POWDERED SALT   \n",
       "\n",
       "                      CMP           MBRD                 BRD  \n",
       "0               G C M M F           AMUL                AMUL  \n",
       "1             PARLE PRODS         MELODY    MELODY CHOCOLATY  \n",
       "2  MONDELEZ INTERNATIONAL  CADBURY SHOTS       CADBURY SHOTS  \n",
       "3      GUJ TEA PROCESSORS     WAGH BAKRI  WAGH BAKRI INSTANT  \n",
       "4               TATA CHEM           TATA           TATA SALT  "
      ]
     },
     "execution_count": 8,
     "metadata": {},
     "output_type": "execute_result"
    }
   ],
   "source": [
    "# Upload the working data\n",
    "df = pd.read_csv('/kaggle/input/store-transaction-data/Hackathon_Working_Data.csv')\n",
    "df.head()"
   ]
  },
  {
   "cell_type": "code",
   "execution_count": 9,
   "id": "f9b5dcf8",
   "metadata": {
    "execution": {
     "iopub.execute_input": "2024-05-22T08:46:27.738022Z",
     "iopub.status.busy": "2024-05-22T08:46:27.737043Z",
     "iopub.status.idle": "2024-05-22T08:46:27.773721Z",
     "shell.execute_reply": "2024-05-22T08:46:27.772511Z"
    },
    "papermill": {
     "duration": 0.049141,
     "end_time": "2024-05-22T08:46:27.776429",
     "exception": false,
     "start_time": "2024-05-22T08:46:27.727288",
     "status": "completed"
    },
    "tags": []
   },
   "outputs": [
    {
     "name": "stdout",
     "output_type": "stream",
     "text": [
      "<class 'pandas.core.frame.DataFrame'>\n",
      "RangeIndex: 26985 entries, 0 to 26984\n",
      "Data columns (total 14 columns):\n",
      " #   Column     Non-Null Count  Dtype  \n",
      "---  ------     --------------  -----  \n",
      " 0   MONTH      26985 non-null  object \n",
      " 1   STORECODE  26985 non-null  object \n",
      " 2   DAY        26985 non-null  int64  \n",
      " 3   BILL_ID    26985 non-null  object \n",
      " 4   BILL_AMT   26985 non-null  float64\n",
      " 5   QTY        26985 non-null  float64\n",
      " 6   VALUE      26985 non-null  float64\n",
      " 7   PRICE      26985 non-null  float64\n",
      " 8   GRP        26985 non-null  object \n",
      " 9   SGRP       26985 non-null  object \n",
      " 10  SSGRP      26985 non-null  object \n",
      " 11  CMP        26985 non-null  object \n",
      " 12  MBRD       26985 non-null  object \n",
      " 13  BRD        26985 non-null  object \n",
      "dtypes: float64(4), int64(1), object(9)\n",
      "memory usage: 2.9+ MB\n"
     ]
    }
   ],
   "source": [
    "df.info()"
   ]
  },
  {
   "cell_type": "code",
   "execution_count": 10,
   "id": "09caa0a3",
   "metadata": {
    "execution": {
     "iopub.execute_input": "2024-05-22T08:46:27.795185Z",
     "iopub.status.busy": "2024-05-22T08:46:27.794075Z",
     "iopub.status.idle": "2024-05-22T08:46:27.826531Z",
     "shell.execute_reply": "2024-05-22T08:46:27.825008Z"
    },
    "papermill": {
     "duration": 0.044385,
     "end_time": "2024-05-22T08:46:27.829187",
     "exception": false,
     "start_time": "2024-05-22T08:46:27.784802",
     "status": "completed"
    },
    "tags": []
   },
   "outputs": [
    {
     "data": {
      "text/html": [
       "<div>\n",
       "<style scoped>\n",
       "    .dataframe tbody tr th:only-of-type {\n",
       "        vertical-align: middle;\n",
       "    }\n",
       "\n",
       "    .dataframe tbody tr th {\n",
       "        vertical-align: top;\n",
       "    }\n",
       "\n",
       "    .dataframe thead th {\n",
       "        text-align: right;\n",
       "    }\n",
       "</style>\n",
       "<table border=\"1\" class=\"dataframe\">\n",
       "  <thead>\n",
       "    <tr style=\"text-align: right;\">\n",
       "      <th></th>\n",
       "      <th>DAY</th>\n",
       "      <th>BILL_AMT</th>\n",
       "      <th>QTY</th>\n",
       "      <th>VALUE</th>\n",
       "      <th>PRICE</th>\n",
       "    </tr>\n",
       "  </thead>\n",
       "  <tbody>\n",
       "    <tr>\n",
       "      <th>count</th>\n",
       "      <td>26985.000000</td>\n",
       "      <td>26985.000000</td>\n",
       "      <td>26985.000000</td>\n",
       "      <td>26985.000000</td>\n",
       "      <td>26985.000000</td>\n",
       "    </tr>\n",
       "    <tr>\n",
       "      <th>mean</th>\n",
       "      <td>15.167019</td>\n",
       "      <td>278.754206</td>\n",
       "      <td>4.105021</td>\n",
       "      <td>67.808551</td>\n",
       "      <td>52.812982</td>\n",
       "    </tr>\n",
       "    <tr>\n",
       "      <th>std</th>\n",
       "      <td>8.956057</td>\n",
       "      <td>541.398504</td>\n",
       "      <td>95.666947</td>\n",
       "      <td>118.005978</td>\n",
       "      <td>84.987730</td>\n",
       "    </tr>\n",
       "    <tr>\n",
       "      <th>min</th>\n",
       "      <td>1.000000</td>\n",
       "      <td>0.000000</td>\n",
       "      <td>0.500000</td>\n",
       "      <td>0.000000</td>\n",
       "      <td>0.000000</td>\n",
       "    </tr>\n",
       "    <tr>\n",
       "      <th>25%</th>\n",
       "      <td>7.000000</td>\n",
       "      <td>40.000000</td>\n",
       "      <td>1.000000</td>\n",
       "      <td>10.000000</td>\n",
       "      <td>10.000000</td>\n",
       "    </tr>\n",
       "    <tr>\n",
       "      <th>50%</th>\n",
       "      <td>14.000000</td>\n",
       "      <td>111.000000</td>\n",
       "      <td>1.000000</td>\n",
       "      <td>30.000000</td>\n",
       "      <td>22.000000</td>\n",
       "    </tr>\n",
       "    <tr>\n",
       "      <th>75%</th>\n",
       "      <td>23.000000</td>\n",
       "      <td>280.000000</td>\n",
       "      <td>2.000000</td>\n",
       "      <td>80.000000</td>\n",
       "      <td>64.000000</td>\n",
       "    </tr>\n",
       "    <tr>\n",
       "      <th>max</th>\n",
       "      <td>31.000000</td>\n",
       "      <td>7292.000000</td>\n",
       "      <td>12000.000000</td>\n",
       "      <td>3150.000000</td>\n",
       "      <td>3150.000000</td>\n",
       "    </tr>\n",
       "  </tbody>\n",
       "</table>\n",
       "</div>"
      ],
      "text/plain": [
       "                DAY      BILL_AMT           QTY         VALUE         PRICE\n",
       "count  26985.000000  26985.000000  26985.000000  26985.000000  26985.000000\n",
       "mean      15.167019    278.754206      4.105021     67.808551     52.812982\n",
       "std        8.956057    541.398504     95.666947    118.005978     84.987730\n",
       "min        1.000000      0.000000      0.500000      0.000000      0.000000\n",
       "25%        7.000000     40.000000      1.000000     10.000000     10.000000\n",
       "50%       14.000000    111.000000      1.000000     30.000000     22.000000\n",
       "75%       23.000000    280.000000      2.000000     80.000000     64.000000\n",
       "max       31.000000   7292.000000  12000.000000   3150.000000   3150.000000"
      ]
     },
     "execution_count": 10,
     "metadata": {},
     "output_type": "execute_result"
    }
   ],
   "source": [
    "df.describe()"
   ]
  },
  {
   "cell_type": "code",
   "execution_count": 11,
   "id": "626d4fa3",
   "metadata": {
    "execution": {
     "iopub.execute_input": "2024-05-22T08:46:27.848378Z",
     "iopub.status.busy": "2024-05-22T08:46:27.847915Z",
     "iopub.status.idle": "2024-05-22T08:46:27.868830Z",
     "shell.execute_reply": "2024-05-22T08:46:27.867650Z"
    },
    "papermill": {
     "duration": 0.033691,
     "end_time": "2024-05-22T08:46:27.871402",
     "exception": false,
     "start_time": "2024-05-22T08:46:27.837711",
     "status": "completed"
    },
    "tags": []
   },
   "outputs": [
    {
     "data": {
      "text/plain": [
       "MONTH        0\n",
       "STORECODE    0\n",
       "DAY          0\n",
       "BILL_ID      0\n",
       "BILL_AMT     0\n",
       "QTY          0\n",
       "VALUE        0\n",
       "PRICE        0\n",
       "GRP          0\n",
       "SGRP         0\n",
       "SSGRP        0\n",
       "CMP          0\n",
       "MBRD         0\n",
       "BRD          0\n",
       "dtype: int64"
      ]
     },
     "execution_count": 11,
     "metadata": {},
     "output_type": "execute_result"
    }
   ],
   "source": [
    "df.isnull().sum()"
   ]
  },
  {
   "cell_type": "markdown",
   "id": "7371610d",
   "metadata": {
    "papermill": {
     "duration": 0.008345,
     "end_time": "2024-05-22T08:46:27.888495",
     "exception": false,
     "start_time": "2024-05-22T08:46:27.880150",
     "status": "completed"
    },
    "tags": []
   },
   "source": [
    "**No Missing Values**"
   ]
  },
  {
   "cell_type": "markdown",
   "id": "a54f64c8",
   "metadata": {
    "papermill": {
     "duration": 0.008254,
     "end_time": "2024-05-22T08:46:27.905955",
     "exception": false,
     "start_time": "2024-05-22T08:46:27.897701",
     "status": "completed"
    },
    "tags": []
   },
   "source": [
    "## 3. Data Transformation\n",
    "\n",
    "In this step, we will perform necessary data transformations to enhance the dataset. This includes converting date-related columns into datetime objects and extracting features such as the day of the week. We will also encode categorical variables (e.g., GRP, SGRP, SSGRP) into numerical values. Additionally, we will create new features like the average bill amount per store and total sales per month to provide more insights during analysis."
   ]
  },
  {
   "cell_type": "code",
   "execution_count": null,
   "id": "70e95143",
   "metadata": {
    "papermill": {
     "duration": 0.008255,
     "end_time": "2024-05-22T08:46:27.922699",
     "exception": false,
     "start_time": "2024-05-22T08:46:27.914444",
     "status": "completed"
    },
    "tags": []
   },
   "outputs": [],
   "source": []
  },
  {
   "cell_type": "markdown",
   "id": "6cf414e8",
   "metadata": {
    "papermill": {
     "duration": 0.008277,
     "end_time": "2024-05-22T08:46:27.939608",
     "exception": false,
     "start_time": "2024-05-22T08:46:27.931331",
     "status": "completed"
    },
    "tags": []
   },
   "source": [
    "## 4. Univariate Analysis\n",
    "\n",
    "Univariate analysis focuses on examining the distribution and summary statistics of individual variables. For numerical columns (QTY, VALUE, BILL_AMT, PRICE), we will compute central tendency and dispersion measures, and visualize their distributions using histograms and box plots. For categorical columns (GRP, SGRP, SSGRP), we will use count plots to understand their frequency distribution."
   ]
  },
  {
   "cell_type": "code",
   "execution_count": null,
   "id": "80d25d2a",
   "metadata": {
    "papermill": {
     "duration": 0.008428,
     "end_time": "2024-05-22T08:46:27.956684",
     "exception": false,
     "start_time": "2024-05-22T08:46:27.948256",
     "status": "completed"
    },
    "tags": []
   },
   "outputs": [],
   "source": []
  },
  {
   "cell_type": "markdown",
   "id": "e95a98ba",
   "metadata": {
    "papermill": {
     "duration": 0.008902,
     "end_time": "2024-05-22T08:46:27.974549",
     "exception": false,
     "start_time": "2024-05-22T08:46:27.965647",
     "status": "completed"
    },
    "tags": []
   },
   "source": [
    "## 5. Bivariate Analysis\n",
    "\n",
    "In bivariate analysis, we will explore relationships between pairs of variables. By computing correlation matrices and creating scatter plots, we can identify significant correlations among numerical columns (e.g., QTY, VALUE). We will also analyze the impact of categorical variables (e.g., GRP, SGRP) on numerical outcomes using box plots and bar charts, providing insights into how different categories affect sales and quantities."
   ]
  },
  {
   "cell_type": "code",
   "execution_count": null,
   "id": "1857aea4",
   "metadata": {
    "papermill": {
     "duration": 0.008451,
     "end_time": "2024-05-22T08:46:27.991963",
     "exception": false,
     "start_time": "2024-05-22T08:46:27.983512",
     "status": "completed"
    },
    "tags": []
   },
   "outputs": [],
   "source": []
  },
  {
   "cell_type": "markdown",
   "id": "7d013386",
   "metadata": {
    "papermill": {
     "duration": 0.008267,
     "end_time": "2024-05-22T08:46:28.008854",
     "exception": false,
     "start_time": "2024-05-22T08:46:28.000587",
     "status": "completed"
    },
    "tags": []
   },
   "source": [
    "## 6. Multivariate Analysis\n",
    "\n",
    "This task involves examining relationships between multiple variables simultaneously. We will use pair plots and heatmaps to uncover patterns and interactions that may not be visible in bivariate analysis. Additionally, we will perform Principal Component Analysis (PCA) to reduce the dimensionality of the dataset, highlighting the most important features that explain the variance in customer behavior."
   ]
  },
  {
   "cell_type": "code",
   "execution_count": null,
   "id": "fee086ca",
   "metadata": {
    "papermill": {
     "duration": 0.008925,
     "end_time": "2024-05-22T08:46:28.026303",
     "exception": false,
     "start_time": "2024-05-22T08:46:28.017378",
     "status": "completed"
    },
    "tags": []
   },
   "outputs": [],
   "source": []
  },
  {
   "cell_type": "markdown",
   "id": "eb1114c7",
   "metadata": {
    "papermill": {
     "duration": 0.009486,
     "end_time": "2024-05-22T08:46:28.044363",
     "exception": false,
     "start_time": "2024-05-22T08:46:28.034877",
     "status": "completed"
    },
    "tags": []
   },
   "source": [
    "## 7. Customer Segmentation\n",
    "\n",
    "Customer segmentation involves grouping customers based on their purchasing behavior. We will apply clustering techniques such as K-means to segment customers using features like purchase frequency and average bill amount. Each customer segment will be analyzed and profiled to understand distinct behavior patterns, which can help in tailoring marketing strategies and improving customer targeting."
   ]
  },
  {
   "cell_type": "code",
   "execution_count": null,
   "id": "76079770",
   "metadata": {
    "papermill": {
     "duration": 0.009255,
     "end_time": "2024-05-22T08:46:28.063019",
     "exception": false,
     "start_time": "2024-05-22T08:46:28.053764",
     "status": "completed"
    },
    "tags": []
   },
   "outputs": [],
   "source": []
  },
  {
   "cell_type": "markdown",
   "id": "40827ce7",
   "metadata": {
    "papermill": {
     "duration": 0.008398,
     "end_time": "2024-05-22T08:46:28.080586",
     "exception": false,
     "start_time": "2024-05-22T08:46:28.072188",
     "status": "completed"
    },
    "tags": []
   },
   "source": [
    "## 8. Time Series Analysis\n",
    "\n",
    "Time series analysis focuses on analyzing data points collected or recorded at specific time intervals. We will plot sales data over time to identify trends and seasonal patterns. By aggregating data by month or quarter, we can observe periodic trends. Additionally, time series decomposition will be used to separate the data into trend, seasonal, and residual components, providing deeper insights into sales dynamics."
   ]
  },
  {
   "cell_type": "code",
   "execution_count": null,
   "id": "9e27bfa0",
   "metadata": {
    "papermill": {
     "duration": 0.008281,
     "end_time": "2024-05-22T08:46:28.097762",
     "exception": false,
     "start_time": "2024-05-22T08:46:28.089481",
     "status": "completed"
    },
    "tags": []
   },
   "outputs": [],
   "source": []
  },
  {
   "cell_type": "markdown",
   "id": "cd52441d",
   "metadata": {
    "papermill": {
     "duration": 0.009915,
     "end_time": "2024-05-22T08:46:28.117046",
     "exception": false,
     "start_time": "2024-05-22T08:46:28.107131",
     "status": "completed"
    },
    "tags": []
   },
   "source": [
    "## 9. Visualization\n",
    "\n",
    "In this step, we will create a variety of visualizations to effectively communicate key insights from our analysis. This includes line plots for temporal trends, bar charts for categorical comparisons, and heatmaps for correlation analysis. We will also develop interactive dashboards to facilitate dynamic exploration and presentation of the data.\n"
   ]
  },
  {
   "cell_type": "code",
   "execution_count": null,
   "id": "413f387e",
   "metadata": {
    "papermill": {
     "duration": 0.008848,
     "end_time": "2024-05-22T08:46:28.135551",
     "exception": false,
     "start_time": "2024-05-22T08:46:28.126703",
     "status": "completed"
    },
    "tags": []
   },
   "outputs": [],
   "source": []
  },
  {
   "cell_type": "markdown",
   "id": "a80be725",
   "metadata": {
    "papermill": {
     "duration": 0.008992,
     "end_time": "2024-05-22T08:46:28.153261",
     "exception": false,
     "start_time": "2024-05-22T08:46:28.144269",
     "status": "completed"
    },
    "tags": []
   },
   "source": [
    "## 10. Insight Generation and Reporting\n",
    "\n",
    "The goal of this task is to derive actionable insights from the EDA. By analyzing customer purchasing patterns, preferences, and behavior, we will provide strategic recommendations. These recommendations may include optimizing inventory management, targeting specific customer segments, and adjusting pricing strategies to enhance overall business performance\n",
    "\n",
    "Reporting involves compiling the findings from the EDA into a comprehensive document. This report will detail the EDA process, key insights, and strategic recommendations. Additionally, we will prepare a presentation to effectively communicate the results and actionable strategies to stakeholders, ensuring that they understand the implications of the analysis for business decision-making."
   ]
  },
  {
   "cell_type": "code",
   "execution_count": null,
   "id": "9507d2f8",
   "metadata": {
    "papermill": {
     "duration": 0.008883,
     "end_time": "2024-05-22T08:46:28.170865",
     "exception": false,
     "start_time": "2024-05-22T08:46:28.161982",
     "status": "completed"
    },
    "tags": []
   },
   "outputs": [],
   "source": []
  },
  {
   "cell_type": "code",
   "execution_count": null,
   "id": "f7ad4fd1",
   "metadata": {
    "papermill": {
     "duration": 0.008661,
     "end_time": "2024-05-22T08:46:28.188572",
     "exception": false,
     "start_time": "2024-05-22T08:46:28.179911",
     "status": "completed"
    },
    "tags": []
   },
   "outputs": [],
   "source": []
  }
 ],
 "metadata": {
  "kaggle": {
   "accelerator": "none",
   "dataSources": [
    {
     "datasetId": 560533,
     "sourceId": 1019220,
     "sourceType": "datasetVersion"
    }
   ],
   "dockerImageVersionId": 30698,
   "isGpuEnabled": false,
   "isInternetEnabled": true,
   "language": "python",
   "sourceType": "notebook"
  },
  "kernelspec": {
   "display_name": "Python 3",
   "language": "python",
   "name": "python3"
  },
  "language_info": {
   "codemirror_mode": {
    "name": "ipython",
    "version": 3
   },
   "file_extension": ".py",
   "mimetype": "text/x-python",
   "name": "python",
   "nbconvert_exporter": "python",
   "pygments_lexer": "ipython3",
   "version": "3.10.13"
  },
  "papermill": {
   "default_parameters": {},
   "duration": 7.011965,
   "end_time": "2024-05-22T08:46:28.817657",
   "environment_variables": {},
   "exception": null,
   "input_path": "__notebook__.ipynb",
   "output_path": "__notebook__.ipynb",
   "parameters": {},
   "start_time": "2024-05-22T08:46:21.805692",
   "version": "2.5.0"
  }
 },
 "nbformat": 4,
 "nbformat_minor": 5
}
